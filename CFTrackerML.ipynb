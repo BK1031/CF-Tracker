{
  "nbformat": 4,
  "nbformat_minor": 0,
  "metadata": {
    "colab": {
      "name": "CFTrackerML.ipynb",
      "provenance": [],
      "collapsed_sections": [],
      "toc_visible": true
    },
    "kernelspec": {
      "name": "python3",
      "display_name": "Python 3"
    }
  },
  "cells": [
    {
      "cell_type": "code",
      "metadata": {
        "id": "QSRHljobBiNr",
        "colab_type": "code",
        "colab": {
          "base_uri": "https://localhost:8080/",
          "height": 63
        },
        "outputId": "37d17425-7e80-4c37-9450-9d54c02ceabe"
      },
      "source": [
        "import pandas as pd\n",
        "import numpy as np\n",
        "from __future__ import absolute_import, division, print_function, unicode_literals\n",
        "\n",
        "import tensorflow as tf\n",
        "\n",
        "from tensorflow.keras.layers import Dense, Flatten, Conv2D\n",
        "from tensorflow.keras import Model\n",
        "from sklearn.model_selection import train_test_split"
      ],
      "execution_count": 38,
      "outputs": [
        {
          "output_type": "display_data",
          "data": {
            "text/html": [
              "<p style=\"color: red;\">\n",
              "The default version of TensorFlow in Colab will soon switch to TensorFlow 2.x.<br>\n",
              "We recommend you <a href=\"https://www.tensorflow.org/guide/migrate\" target=\"_blank\">upgrade</a> now \n",
              "or ensure your notebook will continue to use TensorFlow 1.x via the <code>%tensorflow_version 1.x</code> magic:\n",
              "<a href=\"https://colab.research.google.com/notebooks/tensorflow_version.ipynb\" target=\"_blank\">more info</a>.</p>\n"
            ],
            "text/plain": [
              "<IPython.core.display.HTML object>"
            ]
          },
          "metadata": {
            "tags": []
          }
        }
      ]
    },
    {
      "cell_type": "code",
      "metadata": {
        "id": "bnSXpGwJUtAj",
        "colab_type": "code",
        "outputId": "711ed9f5-c709-429a-8ac3-71ff0d075eab",
        "colab": {
          "resources": {
            "http://localhost:8080/nbextensions/google.colab/files.js": {
              "data": "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",
              "ok": true,
              "headers": [
                [
                  "content-type",
                  "application/javascript"
                ]
              ],
              "status": 200,
              "status_text": ""
            }
          },
          "base_uri": "https://localhost:8080/",
          "height": 37
        }
      },
      "source": [
        "from google.colab import files\n",
        "uploaded = files.upload()"
      ],
      "execution_count": 39,
      "outputs": [
        {
          "output_type": "display_data",
          "data": {
            "text/html": [
              "\n",
              "     <input type=\"file\" id=\"files-839941c1-a7c1-4b67-abc2-e8f0d3b4b53d\" name=\"files[]\" multiple disabled />\n",
              "     <output id=\"result-839941c1-a7c1-4b67-abc2-e8f0d3b4b53d\">\n",
              "      Upload widget is only available when the cell has been executed in the\n",
              "      current browser session. Please rerun this cell to enable.\n",
              "      </output>\n",
              "      <script src=\"/nbextensions/google.colab/files.js\"></script> "
            ],
            "text/plain": [
              "<IPython.core.display.HTML object>"
            ]
          },
          "metadata": {
            "tags": []
          }
        }
      ]
    },
    {
      "cell_type": "code",
      "metadata": {
        "id": "jtHH1fiUQoKE",
        "colab_type": "code",
        "outputId": "871e829c-c7c2-4a8f-8b48-2f562cb701e5",
        "colab": {
          "base_uri": "https://localhost:8080/",
          "height": 170
        }
      },
      "source": [
        "cf_data = pd.read_csv(\"cf_data.csv\")\n",
        "cf_labels = pd.read_csv(\"cf_labels.csv\")\n",
        "cf_labels['Should_Change_Enzyme'] = cf_labels['Should_Change_Enzyme'].astype(np.float64)\n",
        "cf_data['Ate_Allergic'] = cf_data['Ate_Allergic'].astype(np.float64)\n",
        "print(cf_data.dtypes)\n",
        "print(cf_labels.dtypes)"
      ],
      "execution_count": 40,
      "outputs": [
        {
          "output_type": "stream",
          "text": [
            "Enzyme_Difference    float64\n",
            "Oz_Of_Water          float64\n",
            "Exercise_Length      float64\n",
            "Stress_Level         float64\n",
            "Ate_Allergic         float64\n",
            "Stool_Rating         float64\n",
            "dtype: object\n",
            "Should_Change_Enzyme    float64\n",
            "dtype: object\n"
          ],
          "name": "stdout"
        }
      ]
    },
    {
      "cell_type": "code",
      "metadata": {
        "id": "a-BHkRPJERUH",
        "colab_type": "code",
        "colab": {}
      },
      "source": [
        "def get_normalization_parameters(traindf, features):\n",
        "    \"\"\"Get the normalization parameters (E.g., mean, std) for traindf for \n",
        "    features. We will use these parameters for training, eval, and serving.\"\"\"\n",
        "\n",
        "    def _z_score_params(column):\n",
        "        mean = traindf[column].mean()\n",
        "        std = traindf[column].std()\n",
        "        return {'mean': mean, 'std': std}\n",
        "\n",
        "    normalization_parameters = {}\n",
        "    for column in features:\n",
        "        normalization_parameters[column] = _z_score_params(column)\n",
        "    return normalization_parameters\n",
        "\n",
        "NUMERIC_FEATURES = ['Enzyme_Difference', 'Oz_Of_Water', 'Exercise_Length',\n",
        "                    'Stress_Level', 'Ate_Allergic', 'Stool_Rating']\n",
        "normalization_parameters = get_normalization_parameters(cf_data, NUMERIC_FEATURES)"
      ],
      "execution_count": 0,
      "outputs": []
    },
    {
      "cell_type": "code",
      "metadata": {
        "id": "SV57I2E-HTof",
        "colab_type": "code",
        "colab": {}
      },
      "source": [
        "def numeric_column_normalized(column_name, normalizer_fn):\n",
        "    return tf.feature_column.numeric_column(column_name, normalizer_fn=normalizer_fn)\n",
        "\n",
        "def make_zscaler(mean, std):\n",
        "    def zscaler(col):\n",
        "        return (col - mean)/std\n",
        "    return zscaler\n",
        "\n",
        "# Define your feature columns\n",
        "def create_feature_cols(features, use_normalization):\n",
        "    \"\"\"Create feature columns using tf.feature_column. \n",
        "    \n",
        "    This function will get executed during training, evaluation, and serving.\"\"\"\n",
        "    def normalize_column(col):  # Use mean, std defined below.\n",
        "        return (col - mean)/std\n",
        "    normalized_feature_columns = []\n",
        "    for column_name in features:\n",
        "        normalizer_fn = None\n",
        "        if use_normalization:\n",
        "            column_params = normalization_parameters[column_name]\n",
        "            mean = column_params['mean']\n",
        "            std = column_params['std']\n",
        "            normalizer_fn = make_zscaler(mean, std)\n",
        "        normalized_feature_columns.append(numeric_column_normalized(column_name,\n",
        "                                                                     normalizer_fn))\n",
        "    return normalized_feature_columns"
      ],
      "execution_count": 0,
      "outputs": []
    },
    {
      "cell_type": "code",
      "metadata": {
        "id": "Cx7U22i-Hfl-",
        "colab_type": "code",
        "colab": {}
      },
      "source": [
        "NUMERIC_FEATURES = ['Enzyme_Difference', 'Oz_Of_Water', 'Exercise_Length',\n",
        "                    'Stress_Level', 'Ate_Allergic', 'Stool_Rating']\n",
        "feature_columns = create_feature_cols(NUMERIC_FEATURES, use_normalization=True)"
      ],
      "execution_count": 0,
      "outputs": []
    },
    {
      "cell_type": "code",
      "metadata": {
        "id": "TsGbo1oyKorn",
        "colab_type": "code",
        "colab": {
          "base_uri": "https://localhost:8080/",
          "height": 544
        },
        "outputId": "232b1b0f-c309-4023-d864-459f57d15e87"
      },
      "source": [
        "X_train, X_test, y_train, y_test = train_test_split(cf_data,cf_labels[\"Should_Change_Enzyme\"],test_size=0.25, random_state=101)\n",
        "print(y_train)\n",
        "inputFunction = tf.estimator.inputs.pandas_input_fn(x=X_train,y=y_train,batch_size=10,num_epochs=1000,shuffle=True)"
      ],
      "execution_count": 46,
      "outputs": [
        {
          "output_type": "stream",
          "text": [
            "7     0.0\n",
            "34    0.0\n",
            "22    1.0\n",
            "10    1.0\n",
            "3     0.0\n",
            "33    0.0\n",
            "28    1.0\n",
            "24    1.0\n",
            "2     0.0\n",
            "35    0.0\n",
            "15    0.0\n",
            "19    0.0\n",
            "37    1.0\n",
            "29    0.0\n",
            "12    0.0\n",
            "5     1.0\n",
            "14    0.0\n",
            "0     0.0\n",
            "21    0.0\n",
            "39    0.0\n",
            "4     0.0\n",
            "8     1.0\n",
            "13    1.0\n",
            "9     0.0\n",
            "38    0.0\n",
            "23    0.0\n",
            "6     1.0\n",
            "17    0.0\n",
            "11    0.0\n",
            "31    1.0\n",
            "Name: Should_Change_Enzyme, dtype: float64\n"
          ],
          "name": "stdout"
        }
      ]
    },
    {
      "cell_type": "code",
      "metadata": {
        "id": "c7U72dccOMwZ",
        "colab_type": "code",
        "colab": {
          "base_uri": "https://localhost:8080/",
          "height": 1000
        },
        "outputId": "3180b6ae-ce0a-4c0c-e7ca-276d05a17b72"
      },
      "source": [
        "dnnClassifierModel = tf.estimator.DNNClassifier(hidden_units=[512, 256, 128], feature_columns=feature_columns, n_classes=2, activation_fn=tf.nn.tanh,optimizer=lambda: tf.train.AdamOptimizer(learning_rate=tf.train.exponential_decay(learning_rate=0.001, global_step=tf.train.get_global_step(), decay_steps=1000, decay_rate=0.96)))\n",
        "dnnClassifierModel.train(input_fn=inputFunction)"
      ],
      "execution_count": 47,
      "outputs": [
        {
          "output_type": "stream",
          "text": [
            "INFO:tensorflow:Using default config.\n",
            "WARNING:tensorflow:Using temporary folder as model directory: /tmp/tmpbslgcwo2\n",
            "INFO:tensorflow:Using config: {'_model_dir': '/tmp/tmpbslgcwo2', '_tf_random_seed': None, '_save_summary_steps': 100, '_save_checkpoints_steps': None, '_save_checkpoints_secs': 600, '_session_config': allow_soft_placement: true\n",
            "graph_options {\n",
            "  rewrite_options {\n",
            "    meta_optimizer_iterations: ONE\n",
            "  }\n",
            "}\n",
            ", '_keep_checkpoint_max': 5, '_keep_checkpoint_every_n_hours': 10000, '_log_step_count_steps': 100, '_train_distribute': None, '_device_fn': None, '_protocol': None, '_eval_distribute': None, '_experimental_distribute': None, '_experimental_max_worker_delay_secs': None, '_session_creation_timeout_secs': 7200, '_service': None, '_cluster_spec': <tensorflow.python.training.server_lib.ClusterSpec object at 0x7f704c806630>, '_task_type': 'worker', '_task_id': 0, '_global_id_in_cluster': 0, '_master': '', '_evaluation_master': '', '_is_chief': True, '_num_ps_replicas': 0, '_num_worker_replicas': 1}\n",
            "WARNING:tensorflow:From /usr/local/lib/python3.6/dist-packages/tensorflow_core/python/training/training_util.py:236: Variable.initialized_value (from tensorflow.python.ops.variables) is deprecated and will be removed in a future version.\n",
            "Instructions for updating:\n",
            "Use Variable.read_value. Variables in 2.X are initialized automatically both in eager and graph (inside tf.defun) contexts.\n",
            "WARNING:tensorflow:From /usr/local/lib/python3.6/dist-packages/tensorflow_estimator/python/estimator/inputs/queues/feeding_queue_runner.py:62: QueueRunner.__init__ (from tensorflow.python.training.queue_runner_impl) is deprecated and will be removed in a future version.\n",
            "Instructions for updating:\n",
            "To construct input pipelines, use the `tf.data` module.\n",
            "WARNING:tensorflow:From /usr/local/lib/python3.6/dist-packages/tensorflow_estimator/python/estimator/inputs/queues/feeding_functions.py:500: add_queue_runner (from tensorflow.python.training.queue_runner_impl) is deprecated and will be removed in a future version.\n",
            "Instructions for updating:\n",
            "To construct input pipelines, use the `tf.data` module.\n",
            "INFO:tensorflow:Calling model_fn.\n",
            "WARNING:tensorflow:From /usr/local/lib/python3.6/dist-packages/tensorflow_core/python/ops/resource_variable_ops.py:1630: calling BaseResourceVariable.__init__ (from tensorflow.python.ops.resource_variable_ops) with constraint is deprecated and will be removed in a future version.\n",
            "Instructions for updating:\n",
            "If using Keras pass *_constraint arguments to layers.\n",
            "WARNING:tensorflow:From /usr/local/lib/python3.6/dist-packages/tensorflow_estimator/python/estimator/canned/head.py:437: to_float (from tensorflow.python.ops.math_ops) is deprecated and will be removed in a future version.\n",
            "Instructions for updating:\n",
            "Use `tf.cast` instead.\n",
            "WARNING:tensorflow:From /usr/local/lib/python3.6/dist-packages/tensorflow_core/python/ops/nn_impl.py:183: where (from tensorflow.python.ops.array_ops) is deprecated and will be removed in a future version.\n",
            "Instructions for updating:\n",
            "Use tf.where in 2.0, which has the same broadcast rule as np.where\n",
            "INFO:tensorflow:Done calling model_fn.\n",
            "INFO:tensorflow:Create CheckpointSaverHook.\n",
            "INFO:tensorflow:Graph was finalized.\n",
            "INFO:tensorflow:Running local_init_op.\n",
            "INFO:tensorflow:Done running local_init_op.\n",
            "WARNING:tensorflow:From /usr/local/lib/python3.6/dist-packages/tensorflow_core/python/training/monitored_session.py:882: start_queue_runners (from tensorflow.python.training.queue_runner_impl) is deprecated and will be removed in a future version.\n",
            "Instructions for updating:\n",
            "To construct input pipelines, use the `tf.data` module.\n",
            "INFO:tensorflow:Saving checkpoints for 0 into /tmp/tmpbslgcwo2/model.ckpt.\n",
            "INFO:tensorflow:loss = 7.192955, step = 1\n",
            "INFO:tensorflow:global_step/sec: 181.67\n",
            "INFO:tensorflow:loss = 2.0092318, step = 101 (0.551 sec)\n",
            "INFO:tensorflow:global_step/sec: 226.107\n",
            "INFO:tensorflow:loss = 0.07849575, step = 201 (0.443 sec)\n",
            "INFO:tensorflow:global_step/sec: 222.051\n",
            "INFO:tensorflow:loss = 0.014418397, step = 301 (0.450 sec)\n",
            "INFO:tensorflow:global_step/sec: 218.28\n",
            "INFO:tensorflow:loss = 0.06125554, step = 401 (0.459 sec)\n",
            "INFO:tensorflow:global_step/sec: 235\n",
            "INFO:tensorflow:loss = 0.011763684, step = 501 (0.429 sec)\n",
            "INFO:tensorflow:global_step/sec: 241.489\n",
            "INFO:tensorflow:loss = 0.011057229, step = 601 (0.409 sec)\n",
            "INFO:tensorflow:global_step/sec: 229.646\n",
            "INFO:tensorflow:loss = 0.009298207, step = 701 (0.436 sec)\n",
            "INFO:tensorflow:global_step/sec: 228.829\n",
            "INFO:tensorflow:loss = 0.006215457, step = 801 (0.437 sec)\n",
            "INFO:tensorflow:global_step/sec: 235.411\n",
            "INFO:tensorflow:loss = 0.0034210656, step = 901 (0.426 sec)\n",
            "INFO:tensorflow:global_step/sec: 229.759\n",
            "INFO:tensorflow:loss = 0.0017558134, step = 1001 (0.434 sec)\n",
            "INFO:tensorflow:global_step/sec: 228.704\n",
            "INFO:tensorflow:loss = 0.0032190366, step = 1101 (0.438 sec)\n",
            "INFO:tensorflow:global_step/sec: 237.871\n",
            "INFO:tensorflow:loss = 0.0028195542, step = 1201 (0.419 sec)\n",
            "INFO:tensorflow:global_step/sec: 230.614\n",
            "INFO:tensorflow:loss = 0.0018866776, step = 1301 (0.437 sec)\n",
            "INFO:tensorflow:global_step/sec: 231.475\n",
            "INFO:tensorflow:loss = 0.0012087148, step = 1401 (0.431 sec)\n",
            "INFO:tensorflow:global_step/sec: 236.281\n",
            "INFO:tensorflow:loss = 0.00094422896, step = 1501 (0.421 sec)\n",
            "INFO:tensorflow:global_step/sec: 224.695\n",
            "INFO:tensorflow:loss = 0.0032064146, step = 1601 (0.446 sec)\n",
            "INFO:tensorflow:global_step/sec: 232.039\n",
            "INFO:tensorflow:loss = 0.0011216819, step = 1701 (0.434 sec)\n",
            "INFO:tensorflow:global_step/sec: 229.284\n",
            "INFO:tensorflow:loss = 0.00080461364, step = 1801 (0.434 sec)\n",
            "INFO:tensorflow:global_step/sec: 237.448\n",
            "INFO:tensorflow:loss = 0.00075582427, step = 1901 (0.420 sec)\n",
            "INFO:tensorflow:global_step/sec: 235.854\n",
            "INFO:tensorflow:loss = 0.0009926903, step = 2001 (0.424 sec)\n",
            "INFO:tensorflow:global_step/sec: 232.548\n",
            "INFO:tensorflow:loss = 0.0015775457, step = 2101 (0.432 sec)\n",
            "INFO:tensorflow:global_step/sec: 230.298\n",
            "INFO:tensorflow:loss = 0.0018998727, step = 2201 (0.432 sec)\n",
            "INFO:tensorflow:global_step/sec: 231.22\n",
            "INFO:tensorflow:loss = 0.0017328465, step = 2301 (0.436 sec)\n",
            "INFO:tensorflow:global_step/sec: 233.546\n",
            "INFO:tensorflow:loss = 0.0027138337, step = 2401 (0.428 sec)\n",
            "INFO:tensorflow:global_step/sec: 236.398\n",
            "INFO:tensorflow:loss = 0.0011887832, step = 2501 (0.420 sec)\n",
            "INFO:tensorflow:global_step/sec: 233.131\n",
            "INFO:tensorflow:loss = 0.00036284863, step = 2601 (0.430 sec)\n",
            "INFO:tensorflow:global_step/sec: 212.642\n",
            "INFO:tensorflow:loss = 0.00030288895, step = 2701 (0.470 sec)\n",
            "INFO:tensorflow:global_step/sec: 228.875\n",
            "INFO:tensorflow:loss = 0.00045974116, step = 2801 (0.436 sec)\n",
            "INFO:tensorflow:global_step/sec: 228.856\n",
            "INFO:tensorflow:loss = 0.0003497488, step = 2901 (0.437 sec)\n",
            "INFO:tensorflow:Saving checkpoints for 3000 into /tmp/tmpbslgcwo2/model.ckpt.\n",
            "INFO:tensorflow:Loss for final step: 0.0002961743.\n"
          ],
          "name": "stdout"
        },
        {
          "output_type": "execute_result",
          "data": {
            "text/plain": [
              "<tensorflow_estimator.python.estimator.canned.dnn.DNNClassifier at 0x7f70527d3588>"
            ]
          },
          "metadata": {
            "tags": []
          },
          "execution_count": 47
        }
      ]
    },
    {
      "cell_type": "code",
      "metadata": {
        "id": "HWnk5NwpXTdA",
        "colab_type": "code",
        "colab": {
          "base_uri": "https://localhost:8080/",
          "height": 479
        },
        "outputId": "7fe92b2f-74f8-4bfb-8bb7-22918b8a52f0"
      },
      "source": [
        "evaluateInputFunction = tf.estimator.inputs.pandas_input_fn(\n",
        " x=X_test,\n",
        " y=y_test,\n",
        " batch_size=10,\n",
        " num_epochs=1,\n",
        " shuffle=False)\n",
        "dnnClassifierModel.evaluate(evaluateInputFunction)"
      ],
      "execution_count": 48,
      "outputs": [
        {
          "output_type": "stream",
          "text": [
            "INFO:tensorflow:Calling model_fn.\n",
            "WARNING:tensorflow:From /usr/local/lib/python3.6/dist-packages/tensorflow_core/python/ops/metrics_impl.py:2026: div (from tensorflow.python.ops.math_ops) is deprecated and will be removed in a future version.\n",
            "Instructions for updating:\n",
            "Deprecated in favor of operator or tf.math.divide.\n",
            "WARNING:tensorflow:Trapezoidal rule is known to produce incorrect PR-AUCs; please switch to \"careful_interpolation\" instead.\n",
            "WARNING:tensorflow:Trapezoidal rule is known to produce incorrect PR-AUCs; please switch to \"careful_interpolation\" instead.\n",
            "INFO:tensorflow:Done calling model_fn.\n",
            "INFO:tensorflow:Starting evaluation at 2020-01-27T01:24:45Z\n",
            "INFO:tensorflow:Graph was finalized.\n",
            "INFO:tensorflow:Restoring parameters from /tmp/tmpbslgcwo2/model.ckpt-3000\n",
            "INFO:tensorflow:Running local_init_op.\n",
            "INFO:tensorflow:Done running local_init_op.\n",
            "INFO:tensorflow:Finished evaluation at 2020-01-27-01:24:46\n",
            "INFO:tensorflow:Saving dict for global step 3000: accuracy = 0.6, accuracy_baseline = 0.8, auc = 0.81249964, auc_precision_recall = 0.96249986, average_loss = 3.4540105, global_step = 3000, label/mean = 0.8, loss = 34.540104, precision = 1.0, prediction/mean = 0.42234778, recall = 0.5\n",
            "INFO:tensorflow:Saving 'checkpoint_path' summary for global step 3000: /tmp/tmpbslgcwo2/model.ckpt-3000\n"
          ],
          "name": "stdout"
        },
        {
          "output_type": "execute_result",
          "data": {
            "text/plain": [
              "{'accuracy': 0.6,\n",
              " 'accuracy_baseline': 0.8,\n",
              " 'auc': 0.81249964,\n",
              " 'auc_precision_recall': 0.96249986,\n",
              " 'average_loss': 3.4540105,\n",
              " 'global_step': 3000,\n",
              " 'label/mean': 0.8,\n",
              " 'loss': 34.540104,\n",
              " 'precision': 1.0,\n",
              " 'prediction/mean': 0.42234778,\n",
              " 'recall': 0.5}"
            ]
          },
          "metadata": {
            "tags": []
          },
          "execution_count": 48
        }
      ]
    },
    {
      "cell_type": "code",
      "metadata": {
        "id": "K_rbsDaCSkpT",
        "colab_type": "code",
        "colab": {}
      },
      "source": [
        "def predict_input_fn(data_file):\n",
        "        global CSV_COLUMNS\n",
        "        CSV_COLUMNS = CSV_COLUMNS[:-1]\n",
        "        df_data = pd.read_csv(\n",
        "            tf.gfile.Open(data_file),\n",
        "            names=CSV_COLUMNS,\n",
        "            skipinitialspace=True,\n",
        "            engine='python',\n",
        "            skiprows=1\n",
        "        )\n",
        "\n",
        "        # remove NaN elements\n",
        "        df_data = df_data.dropna(how='any', axis=0)\n",
        "\n",
        "        return tf.estimator.inputs.pandas_input_fn(\n",
        "            x=df_data,\n",
        "            num_epochs=1,\n",
        "           shuffle=False\n",
        "        )"
      ],
      "execution_count": 0,
      "outputs": []
    },
    {
      "cell_type": "code",
      "metadata": {
        "id": "TLmO7V73L_NV",
        "colab_type": "code",
        "colab": {}
      },
      "source": [
        "def getAnswer (enzDif, water, exLen, stress, ateAll, stool):\n",
        "  d = {'Enzyme_Difference': [enzDif], 'Oz_Of_Water': [water], 'Exercise_Length': [exLen], 'Stress_Level': [stress], 'Ate_Allergic': [ateAll], 'Stool_Rating': [stool]}\n",
        "  df = pd.DataFrame(data=d)\n",
        "  #print(df)\n",
        "  inputFuncPredict = tf.estimator.inputs.pandas_input_fn(x=df, num_epochs=1, shuffle=False)\n",
        "  results = dnnClassifierModel.predict(input_fn=inputFuncPredict)\n",
        "\n",
        "  for result in results:\n",
        "    formatted = format(result)\n",
        "    #print(formatted)\n",
        "    split = formatted.split(\", \")\n",
        "    answer = split[8].split(\"'\")[3]\n",
        "    return answer"
      ],
      "execution_count": 0,
      "outputs": []
    },
    {
      "cell_type": "code",
      "metadata": {
        "id": "uUrf6bgWdTkZ",
        "colab_type": "code",
        "colab": {}
      },
      "source": [
        "import firebase_admin\n",
        "from firebase_admin import credentials\n",
        "from firebase_admin import db\n",
        "\n",
        "cred = credentials.Certificate(\"serviceAccountKey.json\")\n",
        "\n"
      ],
      "execution_count": 0,
      "outputs": []
    },
    {
      "cell_type": "code",
      "metadata": {
        "id": "nZlMeCXwe0n1",
        "colab_type": "code",
        "colab": {
          "base_uri": "https://localhost:8080/",
          "height": 337
        },
        "outputId": "38977c6a-3910-4655-c215-bec34fc77823"
      },
      "source": [
        "firebase_admin.initialize_app(cred, {\n",
        "    'databaseURL': 'https://cf-tracker-pro.firebaseio.com'\n",
        "})"
      ],
      "execution_count": 52,
      "outputs": [
        {
          "output_type": "error",
          "ename": "ValueError",
          "evalue": "ignored",
          "traceback": [
            "\u001b[0;31m---------------------------------------------------------------------------\u001b[0m",
            "\u001b[0;31mValueError\u001b[0m                                Traceback (most recent call last)",
            "\u001b[0;32m<ipython-input-52-43b89a451cd7>\u001b[0m in \u001b[0;36m<module>\u001b[0;34m()\u001b[0m\n\u001b[1;32m      1\u001b[0m firebase_admin.initialize_app(cred, {\n\u001b[0;32m----> 2\u001b[0;31m     \u001b[0;34m'databaseURL'\u001b[0m\u001b[0;34m:\u001b[0m \u001b[0;34m'https://cf-tracker-pro.firebaseio.com'\u001b[0m\u001b[0;34m\u001b[0m\u001b[0;34m\u001b[0m\u001b[0m\n\u001b[0m\u001b[1;32m      3\u001b[0m })\n",
            "\u001b[0;32m/usr/local/lib/python3.6/dist-packages/firebase_admin/__init__.py\u001b[0m in \u001b[0;36minitialize_app\u001b[0;34m(credential, options, name)\u001b[0m\n\u001b[1;32m     72\u001b[0m     \u001b[0;32mif\u001b[0m \u001b[0mname\u001b[0m \u001b[0;34m==\u001b[0m \u001b[0m_DEFAULT_APP_NAME\u001b[0m\u001b[0;34m:\u001b[0m\u001b[0;34m\u001b[0m\u001b[0;34m\u001b[0m\u001b[0m\n\u001b[1;32m     73\u001b[0m         raise ValueError((\n\u001b[0;32m---> 74\u001b[0;31m             \u001b[0;34m'The default Firebase app already exists. This means you called '\u001b[0m\u001b[0;34m\u001b[0m\u001b[0;34m\u001b[0m\u001b[0m\n\u001b[0m\u001b[1;32m     75\u001b[0m             \u001b[0;34m'initialize_app() more than once without providing an app name as '\u001b[0m\u001b[0;34m\u001b[0m\u001b[0;34m\u001b[0m\u001b[0m\n\u001b[1;32m     76\u001b[0m             \u001b[0;34m'the second argument. In most cases you only need to call '\u001b[0m\u001b[0;34m\u001b[0m\u001b[0;34m\u001b[0m\u001b[0m\n",
            "\u001b[0;31mValueError\u001b[0m: The default Firebase app already exists. This means you called initialize_app() more than once without providing an app name as the second argument. In most cases you only need to call initialize_app() once. But if you do want to initialize multiple apps, pass a second argument to initialize_app() to give each app a unique name."
          ]
        }
      ]
    },
    {
      "cell_type": "code",
      "metadata": {
        "id": "F8HqCv_yfk5S",
        "colab_type": "code",
        "colab": {
          "base_uri": "https://localhost:8080/",
          "height": 119
        },
        "outputId": "c8c5a2c3-c3ea-4d17-eaca-f9a83c2405d2"
      },
      "source": [
        "ref = db.reference('/endDayTests')\n",
        "\n",
        "tests = ref.get(user)[0]\n",
        "\n",
        "firstUser = str(tests).split(\"}\")[0]\n",
        "\n",
        "username = firstUser.split(\": \")[0].replace(\"\\'\", \"\")\n",
        "username = username.replace(\"{\", \"\")\n",
        "#print(username)\n",
        "\n",
        "#ateAll = firstUser.split(\": \")[2]\n",
        "#if ateAll.find(\", \") != -1:\n",
        "#    ateAll = ateAll.split(\", \")[0]\n",
        "#print(ateAll)\n",
        "enzDif = firstUser.split(\": \")[2]\n",
        "if enzDif.find(\", \") != -1:\n",
        "    enzDif = enzDif.split(\", \")[0]\n",
        "#print(enzDif)\n",
        "exLen = firstUser.split(\": \")[3]\n",
        "if exLen.find(\", \") != -1:\n",
        "    exLen = exLen.split(\", \")[0]\n",
        "#print(exLen)\n",
        "ozWat = firstUser.split(\": \")[4]\n",
        "if ozWat.find(\", \") != -1:\n",
        "    ozWat = ozWat.split(\", \")[0]\n",
        "#print(ozWat)\n",
        "stool = firstUser.split(\": \")[5]\n",
        "if stool.find(\", \") != -1:\n",
        "    stool = stool.split(\", \")[0]\n",
        "#print(stool)\n",
        "#stress = firstUser.split(\": \")[7]\n",
        "#if stress.find(\", \") != -1:\n",
        "#    stress = stress.split(\", \")[0]\n",
        "#print(stress)\n",
        "\n",
        "ans = getAnswer(float(enzDif), float(ozWat), float(exLen), float(0), float(0), float(stool))\n",
        "\n",
        "ref.update({\n",
        "    username: {\n",
        "        'Change_Enzyme': ans\n",
        "    }\n",
        "})"
      ],
      "execution_count": 64,
      "outputs": [
        {
          "output_type": "stream",
          "text": [
            "INFO:tensorflow:Calling model_fn.\n",
            "INFO:tensorflow:Done calling model_fn.\n",
            "INFO:tensorflow:Graph was finalized.\n",
            "INFO:tensorflow:Restoring parameters from /tmp/tmpbslgcwo2/model.ckpt-3000\n",
            "INFO:tensorflow:Running local_init_op.\n",
            "INFO:tensorflow:Done running local_init_op.\n"
          ],
          "name": "stdout"
        }
      ]
    },
    {
      "cell_type": "code",
      "metadata": {
        "id": "WnyJT1OvqZDO",
        "colab_type": "code",
        "colab": {}
      },
      "source": [
        ""
      ],
      "execution_count": 0,
      "outputs": []
    }
  ]
}